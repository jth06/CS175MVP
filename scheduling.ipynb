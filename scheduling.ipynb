{
 "cells": [
  {
   "cell_type": "code",
   "execution_count": 24,
   "metadata": {},
   "outputs": [],
   "source": [
    "import pandas as pd\n",
    "import seaborn as sns\n",
    "import csv\n",
    "\n",
    "from matplotlib import pyplot as plt\n",
    "\n",
    "sns.set()"
   ]
  },
  {
   "cell_type": "code",
   "execution_count": 14,
   "metadata": {},
   "outputs": [],
   "source": [
    "df = pd.read_csv(\".\\\\twitch_data_time.tsv\", sep='\\t', quoting=csv.QUOTE_NONE)"
   ]
  },
  {
   "cell_type": "code",
   "execution_count": 19,
   "metadata": {},
   "outputs": [
    {
     "data": {
      "text/html": [
       "<div>\n",
       "<style scoped>\n",
       "    .dataframe tbody tr th:only-of-type {\n",
       "        vertical-align: middle;\n",
       "    }\n",
       "\n",
       "    .dataframe tbody tr th {\n",
       "        vertical-align: top;\n",
       "    }\n",
       "\n",
       "    .dataframe thead th {\n",
       "        text-align: right;\n",
       "    }\n",
       "</style>\n",
       "<table border=\"1\" class=\"dataframe\">\n",
       "  <thead>\n",
       "    <tr style=\"text-align: right;\">\n",
       "      <th></th>\n",
       "      <th>Unnamed: 0</th>\n",
       "      <th>game_name</th>\n",
       "      <th>time_created</th>\n",
       "      <th>current_views</th>\n",
       "      <th>broadcaster_id</th>\n",
       "      <th>broadcaster_name</th>\n",
       "      <th>follower_number</th>\n",
       "      <th>broadcaster_language</th>\n",
       "      <th>datetime</th>\n",
       "      <th>week</th>\n",
       "    </tr>\n",
       "  </thead>\n",
       "  <tbody>\n",
       "    <tr>\n",
       "      <th>0</th>\n",
       "      <td>0</td>\n",
       "      <td>Dota 2</td>\n",
       "      <td>2015-02-01T02:48:25Z</td>\n",
       "      <td>34846</td>\n",
       "      <td>29578325.0</td>\n",
       "      <td>beyondthesummit</td>\n",
       "      <td>197236.0</td>\n",
       "      <td>en</td>\n",
       "      <td>2015-02-01 02:48:25</td>\n",
       "      <td>2015-01-26/2015-02-01</td>\n",
       "    </tr>\n",
       "    <tr>\n",
       "      <th>1</th>\n",
       "      <td>1</td>\n",
       "      <td>StarCraft II: Heart of the Swarm</td>\n",
       "      <td>2015-02-01T02:18:13Z</td>\n",
       "      <td>27293</td>\n",
       "      <td>30220059.0</td>\n",
       "      <td>esltv_sc2</td>\n",
       "      <td>57446.0</td>\n",
       "      <td>en</td>\n",
       "      <td>2015-02-01 02:18:13</td>\n",
       "      <td>2015-01-26/2015-02-01</td>\n",
       "    </tr>\n",
       "    <tr>\n",
       "      <th>2</th>\n",
       "      <td>2</td>\n",
       "      <td>Hearthstone: Heroes of Warcraft</td>\n",
       "      <td>2015-02-01T05:42:20Z</td>\n",
       "      <td>18725</td>\n",
       "      <td>29795919.0</td>\n",
       "      <td>nl_kripp</td>\n",
       "      <td>407203.0</td>\n",
       "      <td>en</td>\n",
       "      <td>2015-02-01 05:42:20</td>\n",
       "      <td>2015-01-26/2015-02-01</td>\n",
       "    </tr>\n",
       "    <tr>\n",
       "      <th>3</th>\n",
       "      <td>3</td>\n",
       "      <td>Dota 2</td>\n",
       "      <td>2015-02-01T07:06:03Z</td>\n",
       "      <td>17817</td>\n",
       "      <td>28633266.0</td>\n",
       "      <td>starladder3</td>\n",
       "      <td>22098.0</td>\n",
       "      <td>ru</td>\n",
       "      <td>2015-02-01 07:06:03</td>\n",
       "      <td>2015-01-26/2015-02-01</td>\n",
       "    </tr>\n",
       "    <tr>\n",
       "      <th>4</th>\n",
       "      <td>4</td>\n",
       "      <td>Dota 2</td>\n",
       "      <td>2015-02-01T05:49:08Z</td>\n",
       "      <td>24142</td>\n",
       "      <td>24954143.0</td>\n",
       "      <td>dotacinema</td>\n",
       "      <td>63221.0</td>\n",
       "      <td>en</td>\n",
       "      <td>2015-02-01 05:49:08</td>\n",
       "      <td>2015-01-26/2015-02-01</td>\n",
       "    </tr>\n",
       "    <tr>\n",
       "      <th>...</th>\n",
       "      <td>...</td>\n",
       "      <td>...</td>\n",
       "      <td>...</td>\n",
       "      <td>...</td>\n",
       "      <td>...</td>\n",
       "      <td>...</td>\n",
       "      <td>...</td>\n",
       "      <td>...</td>\n",
       "      <td>...</td>\n",
       "      <td>...</td>\n",
       "    </tr>\n",
       "    <tr>\n",
       "      <th>6615788</th>\n",
       "      <td>6615797</td>\n",
       "      <td>Elsword</td>\n",
       "      <td>2015-03-08T01:07:51Z</td>\n",
       "      <td>51</td>\n",
       "      <td>13736160.0</td>\n",
       "      <td>waterb0x</td>\n",
       "      <td>2172.0</td>\n",
       "      <td>en</td>\n",
       "      <td>2015-03-08 01:07:51</td>\n",
       "      <td>2015-03-02/2015-03-08</td>\n",
       "    </tr>\n",
       "    <tr>\n",
       "      <th>6615789</th>\n",
       "      <td>6615798</td>\n",
       "      <td>Grand Theft Auto V</td>\n",
       "      <td>2015-03-08T07:31:09Z</td>\n",
       "      <td>58</td>\n",
       "      <td>70802098.0</td>\n",
       "      <td>jaysuavetv</td>\n",
       "      <td>258.0</td>\n",
       "      <td>en</td>\n",
       "      <td>2015-03-08 07:31:09</td>\n",
       "      <td>2015-03-02/2015-03-08</td>\n",
       "    </tr>\n",
       "    <tr>\n",
       "      <th>6615790</th>\n",
       "      <td>6615799</td>\n",
       "      <td>Call of Duty: Advanced Warfare</td>\n",
       "      <td>2015-03-08T04:54:13Z</td>\n",
       "      <td>54</td>\n",
       "      <td>62117771.0</td>\n",
       "      <td>fios312</td>\n",
       "      <td>1439.0</td>\n",
       "      <td>en</td>\n",
       "      <td>2015-03-08 04:54:13</td>\n",
       "      <td>2015-03-02/2015-03-08</td>\n",
       "    </tr>\n",
       "    <tr>\n",
       "      <th>6615791</th>\n",
       "      <td>6615800</td>\n",
       "      <td>Metroid Prime</td>\n",
       "      <td>2015-03-08T04:42:50Z</td>\n",
       "      <td>52</td>\n",
       "      <td>54456921.0</td>\n",
       "      <td>metroid177</td>\n",
       "      <td>352.0</td>\n",
       "      <td>other</td>\n",
       "      <td>2015-03-08 04:42:50</td>\n",
       "      <td>2015-03-02/2015-03-08</td>\n",
       "    </tr>\n",
       "    <tr>\n",
       "      <th>6615792</th>\n",
       "      <td>6615801</td>\n",
       "      <td>FIFA 15</td>\n",
       "      <td>2015-03-08T03:59:09Z</td>\n",
       "      <td>51</td>\n",
       "      <td>76261516.0</td>\n",
       "      <td>sshynezent</td>\n",
       "      <td>6255.0</td>\n",
       "      <td>en</td>\n",
       "      <td>2015-03-08 03:59:09</td>\n",
       "      <td>2015-03-02/2015-03-08</td>\n",
       "    </tr>\n",
       "  </tbody>\n",
       "</table>\n",
       "<p>6615793 rows × 10 columns</p>\n",
       "</div>"
      ],
      "text/plain": [
       "         Unnamed: 0                         game_name          time_created  \\\n",
       "0                 0                            Dota 2  2015-02-01T02:48:25Z   \n",
       "1                 1  StarCraft II: Heart of the Swarm  2015-02-01T02:18:13Z   \n",
       "2                 2   Hearthstone: Heroes of Warcraft  2015-02-01T05:42:20Z   \n",
       "3                 3                            Dota 2  2015-02-01T07:06:03Z   \n",
       "4                 4                            Dota 2  2015-02-01T05:49:08Z   \n",
       "...             ...                               ...                   ...   \n",
       "6615788     6615797                           Elsword  2015-03-08T01:07:51Z   \n",
       "6615789     6615798                Grand Theft Auto V  2015-03-08T07:31:09Z   \n",
       "6615790     6615799    Call of Duty: Advanced Warfare  2015-03-08T04:54:13Z   \n",
       "6615791     6615800                     Metroid Prime  2015-03-08T04:42:50Z   \n",
       "6615792     6615801                           FIFA 15  2015-03-08T03:59:09Z   \n",
       "\n",
       "         current_views  broadcaster_id broadcaster_name  follower_number  \\\n",
       "0                34846      29578325.0  beyondthesummit         197236.0   \n",
       "1                27293      30220059.0        esltv_sc2          57446.0   \n",
       "2                18725      29795919.0         nl_kripp         407203.0   \n",
       "3                17817      28633266.0      starladder3          22098.0   \n",
       "4                24142      24954143.0       dotacinema          63221.0   \n",
       "...                ...             ...              ...              ...   \n",
       "6615788             51      13736160.0         waterb0x           2172.0   \n",
       "6615789             58      70802098.0       jaysuavetv            258.0   \n",
       "6615790             54      62117771.0          fios312           1439.0   \n",
       "6615791             52      54456921.0       metroid177            352.0   \n",
       "6615792             51      76261516.0       sshynezent           6255.0   \n",
       "\n",
       "        broadcaster_language            datetime                   week  \n",
       "0                         en 2015-02-01 02:48:25  2015-01-26/2015-02-01  \n",
       "1                         en 2015-02-01 02:18:13  2015-01-26/2015-02-01  \n",
       "2                         en 2015-02-01 05:42:20  2015-01-26/2015-02-01  \n",
       "3                         ru 2015-02-01 07:06:03  2015-01-26/2015-02-01  \n",
       "4                         en 2015-02-01 05:49:08  2015-01-26/2015-02-01  \n",
       "...                      ...                 ...                    ...  \n",
       "6615788                   en 2015-03-08 01:07:51  2015-03-02/2015-03-08  \n",
       "6615789                   en 2015-03-08 07:31:09  2015-03-02/2015-03-08  \n",
       "6615790                   en 2015-03-08 04:54:13  2015-03-02/2015-03-08  \n",
       "6615791                other 2015-03-08 04:42:50  2015-03-02/2015-03-08  \n",
       "6615792                   en 2015-03-08 03:59:09  2015-03-02/2015-03-08  \n",
       "\n",
       "[6615793 rows x 10 columns]"
      ]
     },
     "execution_count": 19,
     "metadata": {},
     "output_type": "execute_result"
    }
   ],
   "source": [
    "df"
   ]
  },
  {
   "cell_type": "code",
   "execution_count": 15,
   "metadata": {},
   "outputs": [],
   "source": [
    "df['datetime'] = pd.to_datetime(df['time_created'], format='%Y-%m-%dT%H:%M:%SZ')"
   ]
  },
  {
   "cell_type": "code",
   "execution_count": 18,
   "metadata": {},
   "outputs": [],
   "source": [
    "df['week'] = df['datetime'].dt.to_period('W')"
   ]
  },
  {
   "cell_type": "code",
   "execution_count": 29,
   "metadata": {},
   "outputs": [
    {
     "data": {
      "text/plain": [
       "[Text(0.5, 0, 'Hour of Day'), Text(0, 0.5, 'Streams')]"
      ]
     },
     "execution_count": 29,
     "metadata": {},
     "output_type": "execute_result"
    },
    {
     "data": {
      "image/png": "[encoded data removed]",
      "text/plain": [
       "<Figure size 1440x720 with 1 Axes>"
      ]
     },
     "metadata": {},
     "output_type": "display_data"
    }
   ],
   "source": [
    "df['hour'] = df['datetime'].dt.hour\n",
    "ax = df.groupby('hour')['broadcaster_id'].count().plot(kind='bar',width=1,title='Times of Streams',figsize=(20,10))\n",
    "ax.set(xlabel='Hour of Day',ylabel='Streams')"
   ]
  },
  {
   "cell_type": "code",
   "execution_count": 30,
   "metadata": {},
   "outputs": [
    {
     "data": {
      "text/plain": [
       "[Text(0.5, 0, 'Hour of Day'), Text(0, 0.5, 'Views (Mean)')]"
      ]
     },
     "execution_count": 30,
     "metadata": {},
     "output_type": "execute_result"
    },
    {
     "data": {
      "image/png": "[encoded data removed]",
      "text/plain": [
       "<Figure size 1440x720 with 1 Axes>"
      ]
     },
     "metadata": {},
     "output_type": "display_data"
    }
   ],
   "source": [
    "df['hour'] = df['datetime'].dt.hour\n",
    "ax = df.groupby('hour')['current_views'].mean().plot(kind='bar',width=1,title='Times of Streams',figsize=(20,10))\n",
    "ax.set(xlabel='Hour of Day',ylabel='Views (Mean)')"
   ]
  },
  {
   "cell_type": "code",
   "execution_count": null,
   "metadata": {},
   "outputs": [],
   "source": []
  }
 ],
 "metadata": {
  "kernelspec": {
   "display_name": "Python 3",
   "language": "python",
   "name": "python3"
  },
  "language_info": {
   "codemirror_mode": {
    "name": "ipython",
    "version": 3
   },
   "file_extension": ".py",
   "mimetype": "text/x-python",
   "name": "python",
   "nbconvert_exporter": "python",
   "pygments_lexer": "ipython3",
   "version": "3.8.5"
  }
 },
 "nbformat": 4,
 "nbformat_minor": 4
}
